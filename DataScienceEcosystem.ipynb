{
 "cells": [
  {
   "cell_type": "markdown",
   "id": "e233f962-58c7-46cf-a0ed-8a09a0628db6",
   "metadata": {},
   "source": [
    "# ***Data Science Tools and Ecosystem*** #"
   ]
  },
  {
   "cell_type": "markdown",
   "id": "9fa592f4-3c21-40db-a84d-a13ae80ae86b",
   "metadata": {},
   "source": [
    "## **In this Notebook, Data Science tools and ecosystem are summarized** ##"
   ]
  },
  {
   "cell_type": "markdown",
   "id": "e30e1560-d9b8-4e4b-80ce-f69b26050382",
   "metadata": {},
   "source": [
    "#### Some of the popular languages that Data Scientists use are: ####\n",
    "1. Python\n",
    "2. R\n",
    "3. Ruby"
   ]
  },
  {
   "cell_type": "markdown",
   "id": "9ec636ec-4b4a-4281-9b1b-15f9581e73f6",
   "metadata": {},
   "source": [
    "### Some of the commonly used libraries used by Data Scientists include: ###\n",
    "1. Numpy\n",
    "2. Scipy\n",
    "3. MatPlotLib\n"
   ]
  },
  {
   "cell_type": "markdown",
   "id": "597b8ece-a399-4e48-955b-469d7f31a76d",
   "metadata": {},
   "source": [
    " | DataScience Tools|\n",
    "|--------|\n",
    "|Jupter notebook|\n",
    "|RStudio|\n",
    "| Git and GitHub|"
   ]
  },
  {
   "cell_type": "markdown",
   "id": "65caaad1-ab3e-4ad0-8c48-b5ce7333d281",
   "metadata": {},
   "source": [
    "**Objectives: This is just a view of the course which is totally subjective based. the main objective of teaching these basic things is to make the foundation good before going to the advance steps.**\n",
    " + Python\n",
    " + SQL\n",
    " + Javascript\n",
    " + Ruby\n",
    " + Scela\n",
    " + R\n",
    " \n",
    "\n",
    "\n",
    "\n",
    "\n"
   ]
  },
  {
   "cell_type": "code",
   "execution_count": 18,
   "id": "9535cc05-df29-4283-90f1-f79d1f1b640e",
   "metadata": {},
   "outputs": [
    {
     "name": "stdout",
     "output_type": "stream",
     "text": [
      "17\n"
     ]
    }
   ],
   "source": [
    "a=3\n",
    "b=4\n",
    "c=5\n",
    "d=(a*b) +c\n",
    "print(d)\n",
    "#This is a simple arthmetic expression to multiply then add integers "
   ]
  },
  {
   "cell_type": "code",
   "execution_count": 19,
   "id": "7a005222-8462-4515-875d-ae1e4ec2bfde",
   "metadata": {},
   "outputs": [
    {
     "name": "stdout",
     "output_type": "stream",
     "text": [
      "The time value in hours is 3.33 Hours\n"
     ]
    }
   ],
   "source": [
    "a= 200\n",
    "b= a/60\n",
    "c=round(b,2)\n",
    "print(\"The time value in hours is\",c,\"Hours\")"
   ]
  },
  {
   "cell_type": "markdown",
   "id": "d400b7e4-8638-4b76-b230-d8b8cd6b8195",
   "metadata": {},
   "source": [
    "## Author: *Lakshmi Holla and Niveditha Pandith* ##\n",
    "Author: Navdeep  Singh"
   ]
  }
 ],
 "metadata": {
  "kernelspec": {
   "display_name": "Python 3 (ipykernel)",
   "language": "python",
   "name": "python3"
  },
  "language_info": {
   "codemirror_mode": {
    "name": "ipython",
    "version": 3
   },
   "file_extension": ".py",
   "mimetype": "text/x-python",
   "name": "python",
   "nbconvert_exporter": "python",
   "pygments_lexer": "ipython3",
   "version": "3.12.8"
  }
 },
 "nbformat": 4,
 "nbformat_minor": 5
}
